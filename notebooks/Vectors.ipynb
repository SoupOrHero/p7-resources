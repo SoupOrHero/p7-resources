{
 "cells": [
  {
   "cell_type": "markdown",
   "metadata": {},
   "source": [
    "# Vectors"
   ]
  },
  {
   "cell_type": "markdown",
   "metadata": {},
   "source": [
    "Vectors are a huge part of physics. Even advanced physicists use vectors to solve some porblems. Today you will learn about how to read, solve, and use vectors.\n",
    "\n",
    "### What is a vector?\n",
    "\n",
    "A __vector__ are arrows that have __magnitude AND direction__.\n",
    "\n",
    "### How do they look and how will I know if something is a vector?\n",
    "\n",
    "Something that is a vector will have a notation above it that will look like \"half of an arrow.\"\n",
    "\n",
    "\n"
   ]
  },
  {
   "cell_type": "code",
   "execution_count": null,
   "metadata": {
    "collapsed": true
   },
   "outputs": [],
   "source": []
  }
 ],
 "metadata": {
  "kernelspec": {
   "display_name": "Python 3",
   "language": "python",
   "name": "python3"
  },
  "language_info": {
   "codemirror_mode": {
    "name": "ipython",
    "version": 3
   },
   "file_extension": ".py",
   "mimetype": "text/x-python",
   "name": "python",
   "nbconvert_exporter": "python",
   "pygments_lexer": "ipython3",
   "version": "3.4.4"
  }
 },
 "nbformat": 4,
 "nbformat_minor": 0
}
